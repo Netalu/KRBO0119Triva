{
 "cells": [
  {
   "cell_type": "code",
   "execution_count": null,
   "metadata": {},
   "outputs": [
    {
     "name": "stdout",
     "output_type": "stream",
     "text": [
      "Выберите город или введите exit, чтобы выйти: \n",
      "Moscow\n",
      "Введите количество дней поездки: \n",
      "10\n",
      "Введите количество людей: \n",
      "2\n",
      "Ввдите количество денег, которое собираетесь тратить в день: \n",
      "2500\n",
      "Затртаты в день составят : 3356\n",
      "Вам неободимо еще добавить   8560\n",
      "Общая стоймость поездки 131966\n",
      "Выберите город или введите exit, чтобы выйти: \n",
      "Moscow\n",
      "Введите количество дней поездки: \n",
      "2\n",
      "Введите количество людей: \n",
      "2\n",
      "Ввдите количество денег, которое собираетесь тратить в день: \n",
      "0\n",
      "Затртаты в день составят : 3356\n",
      "Вам неободимо еще добавить   6712\n",
      "Общая стоймость поездки 17646\n",
      "Выберите город или введите exit, чтобы выйти: \n"
     ]
    }
   ],
   "source": [
    "#Список переменных\n",
    "#-Стоймость билета на самолет ticket\n",
    "#-Стоймость отеля за ночь hotelNight\n",
    "#-Стоймость отеля за день hotenlDay\n",
    "#-Количество людей people\n",
    "#-Количество дней days\n",
    "#-КОличество ночей nights\n",
    "#-Стоймость поездки в городе ticketCity\n",
    "#-Стоймость чека в ресторане на одного человека priceCafe\n",
    "#fullPrice = ticket*2*people+hotelNight*nights*people+hotelDay*days*people+\n",
    "def priceDay(priceCafe,ticketCity,people):\n",
    "    return priceCafe*people+ticketCity*4*people #Тут надо еще учитывать налог\n",
    "\n",
    "def hotelPrice(hotelNight,days,people):\n",
    "    return hotelNight*(days-1)*people\n",
    "\n",
    "\n",
    "cities = { 'Lissabon':[23000,7456,250,1567], 'Moscow':[16000,5467,55,1458], 'Paris':[]}\n",
    "#цена самолета туда\\обратно, цена отеля за ночь, цена одной поездки в городе, всредний чек в ресторане\n",
    "\n",
    "while True:\n",
    "    print('Выберите город или введите exit, чтобы выйти: ')\n",
    "    cityName=input()\n",
    "    if cityName == 'exit':\n",
    "        break\n",
    "    print('Введите количество дней поездки: ')\n",
    "    days = int(input())\n",
    "    print ('Введите количество людей: ')\n",
    "    people = int(input())\n",
    "    print('Ввдите количество денег, которое собираетесь тратить в день: ')\n",
    "    money = int(input())\n",
    "    v = priceDay(cities[cityName][3],cities[cityName][2],people)\n",
    "    x = v*days+ hotelPrice(cities[cityName][1],days,people)\n",
    "    if v > money:\n",
    "        print('Затртаты в день составят :', v)\n",
    "        print('Вам неободимо еще добавить  ', (v-money)*days)\n",
    "    print ('Общая стоймость поездки', x)\n",
    "print ('The end')\n",
    "\n",
    "\n"
   ]
  },
  {
   "cell_type": "code",
   "execution_count": null,
   "metadata": {},
   "outputs": [],
   "source": []
  },
  {
   "cell_type": "code",
   "execution_count": null,
   "metadata": {},
   "outputs": [],
   "source": []
  }
 ],
 "metadata": {
  "kernelspec": {
   "display_name": "Python 3",
   "language": "python",
   "name": "python3"
  },
  "language_info": {
   "codemirror_mode": {
    "name": "ipython",
    "version": 3
   },
   "file_extension": ".py",
   "mimetype": "text/x-python",
   "name": "python",
   "nbconvert_exporter": "python",
   "pygments_lexer": "ipython3",
   "version": "3.8.1"
  }
 },
 "nbformat": 4,
 "nbformat_minor": 4
}
